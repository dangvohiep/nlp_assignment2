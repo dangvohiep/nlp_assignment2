{
  "cells": [
    {
      "cell_type": "markdown",
      "metadata": {
        "id": "4Q05trEvPpQw"
      },
      "source": [
        "# I. Rule-based and Statistical Approaches for Part-of-Speech Tagging\n",
        "\n",
        "Part-of-Speech tagging, also known as POS tagging, is the process of assigning grammatical tags or labels to words in a sentence. The tags represent the syntactic category or part of speech of each word, such as noun, verb, adjective, adverb, etc. POS tagging is an essential step in many Natural Language Processing (NLP) tasks, including parsing, machine translation, and information retrieval.\n",
        "\n",
        "POS tagging can be approached using different techniques, including rule-based approaches, statistical approaches, and hybrid approaches that combine both. In statistical approaches, Hidden Markov Models (HMMs) and Maximum Entropy Markov Models (MEMMs) are commonly used.\n",
        "\n",
        "Implement a rule-based part-of-speech (POS) tagger:\n",
        "* a. Write a set of rules to assign POS tags to words based on their context\n",
        "* b. Apply the rules to a sample text and evaluate the accuracy of the tagger.\n",
        "\n",
        "\n",
        "\n",
        "Implement a statistical POS tagger using a pre-trained model:\n",
        "\n",
        "\n",
        "* a. Train a statistical POS tagger on a labeled corpus using a machine learning algorithm such as Naive Bayes or Maximum Entropy.\n",
        "* b. Apply the trained model to tag a sample text and evaluate its accuracy.\n",
        "\n",
        "\n",
        "\n"
      ]
    },
    {
      "cell_type": "code",
      "execution_count": null,
      "metadata": {
        "colab": {
          "base_uri": "https://localhost:8080/"
        },
        "id": "lJ2RhiyPSCv6",
        "outputId": "69e9c1a4-bbd6-4620-91ac-6afab6729493"
      },
      "outputs": [],
      "source": [
        "import nltk\n",
        "import re\n",
        "nltk.download('punkt')\n",
        "nltk.download('treebank')\n",
        "nltk.download('averaged_perceptron_tagger')\n",
        "nltk.download('maxent_ne_chunker') #The maxent_ne_chunker contains two pre-trained English named entity chunkers trained on an ACE corpus (perhaps ACE ACE 2004 Multilingual Training Corpus?)"
      ]
    },
    {
      "cell_type": "code",
      "execution_count": null,
      "metadata": {
        "id": "gXSDBSDaPY12"
      },
      "outputs": [],
      "source": [
        "from nltk import pos_tag, ne_chunk\n",
        "from nltk.tokenize import word_tokenize\n",
        "from nltk.corpus import treebank\n",
        "from nltk.tag import DefaultTagger, UnigramTagger, BigramTagger #important for POS tagging\n",
        "\n",
        "\n",
        "# Part 1: Rule-based and Statistical Approaches for Part-of-Speech Tagging\n",
        "\n",
        "# Rule-based POS Tagger\n",
        "def rule_based_pos_tagger(sentence):\n",
        "    # Define your rules here\n",
        "    rules = [\n",
        "          (re.compile(r'\\bThe\\b'), 'DT'),\n",
        "          (re.compile(r'\\bcat\\b'), 'NN'),\n",
        "          (re.compile(r'\\bis\\b'), 'VB'),\n",
        "          (re.compile(r'\\bsitting\\b'), 'VB'),\n",
        "          (re.compile(r'\\bon\\b'), 'IN'),\n",
        "          (re.compile(r'\\bthe\\b'), 'DT'),\n",
        "          (re.compile(r'\\bmat\\b'), 'NN'),\n",
        "      ]\n",
        "    tagged_sentence = []\n",
        "    words = word_tokenize(sentence)\n",
        "    for word in words:\n",
        "        for pattern, tag in rules:\n",
        "            if pattern.match(word):\n",
        "                tagged_sentence.append((word, tag))\n",
        "                break\n",
        "        else:\n",
        "            tagged_sentence.append((word, 'UNKNOWN'))\n",
        "    return tagged_sentence\n",
        "\n",
        "# Statistical POS Tagger\n",
        "def statistical_pos_tagger(sentence):\n",
        "    # Train your model on a labeled corpus (e.g., treebank)\n",
        "    train_data = treebank.tagged_sents()[:3000]\n",
        "    # Train your statistical model here\n",
        "\n",
        "    # Split data into training and testing sets\n",
        "    train_size = int(len(train_data) * 0.8)\n",
        "    train_set = train_data[:train_size]\n",
        "    test_set = train_data[train_size:]\n",
        "\n",
        "    # Create taggers\n",
        "    default_tagger = DefaultTagger('NN')  # Default tagger assigns 'NN' to all words\n",
        "    unigram_tagger = UnigramTagger(train_set, backoff=default_tagger)  # Unigram tagger using training set\n",
        "    bigram_tagger = BigramTagger(train_set, backoff=unigram_tagger)  # Bigram tagger using training set and fallback to unigram tagger\n",
        "\n",
        "    # Evaluate on test set\n",
        "    accuracy = bigram_tagger.accuracy(test_set)\n",
        "    print(\"Accuracy:\", accuracy)\n",
        "\n",
        "\n",
        "    # Apply the trained model to tag the sentence\n",
        "    tagged_sentence  = bigram_tagger.tag(word_tokenize(sentence))\n",
        "    #tagged_sentence = nltk.pos_tag(words)\n",
        "    #tagged_sentence.append(tagged_sentence)\n",
        "    return tagged_sentence"
      ]
    },
    {
      "cell_type": "code",
      "execution_count": null,
      "metadata": {
        "colab": {
          "base_uri": "https://localhost:8080/"
        },
        "id": "exUD_vjjR6T7",
        "outputId": "c336a8d4-6ba5-4ed3-cdc3-4d977628ef71"
      },
      "outputs": [],
      "source": [
        "# Part 1: Rule-based and Statistical Approaches for Part-of-Speech Tagging\n",
        "sample_sentence = \"The cat is sitting on the mat.\"\n",
        "\n",
        "# Rule-based POS Tagging\n",
        "rule_based_tags = rule_based_pos_tagger(sample_sentence)\n",
        "print(\"Rule-based POS Tags:\")\n",
        "print(rule_based_tags)\n",
        "\n",
        "# Statistical POS Tagging\n",
        "statistical_tags = statistical_pos_tagger(sample_sentence)\n",
        "print(\"Statistical POS Tags:\")\n",
        "print(statistical_tags)\n"
      ]
    },
    {
      "cell_type": "markdown",
      "metadata": {
        "id": "zoASyaNWdgYW"
      },
      "source": [
        "Additionally, NLTK has a built in function call ```pos_tags``\n",
        "See example below"
      ]
    },
    {
      "cell_type": "code",
      "execution_count": null,
      "metadata": {
        "colab": {
          "base_uri": "https://localhost:8080/"
        },
        "id": "AYSqHPf4dpMS",
        "outputId": "fbdb8888-6a5d-499e-c626-0bc2e68ede53"
      },
      "outputs": [],
      "source": [
        "sample_sentence = \"The cat is sitting on the mat.\"\n",
        "\n",
        "tagged_sentence = nltk.pos_tag(word_tokenize(sample_sentence))\n",
        "print(tagged_sentence)"
      ]
    },
    {
      "cell_type": "markdown",
      "metadata": {
        "id": "S9jgjuE4euOi"
      },
      "source": [
        " ### Exercise\n",
        "\n",
        "Update the Rule-based tagger with patterns using regex. An example could be:\n",
        "\n",
        "\n",
        "\n",
        "      ```  (r'\\b\\w+s\\b|\\b\\w+es\\b', 'NN'),     # Nouns ending ```\n",
        "\n",
        "  From here proivde an updated rule-based tagger and statistical based tagger that can apply a part of speech tag for the following complex sentence:\n",
        "\n",
        "  ```\n",
        "  sentence = \"The quick brown fox jumps over the lazy dog while it's raining heavily.\"\n",
        "\n",
        "  ```"
      ]
    },
    {
      "cell_type": "code",
      "execution_count": 1,
      "metadata": {
        "colab": {
          "base_uri": "https://localhost:8080/",
          "height": 36
        },
        "id": "zsFIKF3QetPp",
        "outputId": "30dce9d8-9763-4ad0-eaed-fe5b23912b00"
      },
      "outputs": [],
      "source": [
        "import re\n",
        "from nltk.tokenize import word_tokenize\n",
        "\n",
        "def rule_based_pos_tagger(sentence):\n",
        "    # More comprehensive and nuanced rules\n",
        "    rules = [\n",
        "        (re.compile(r'\\b(and|or|but|nor|yet|so)\\b', re.I), 'CC'),  # Coordinating conjunction\n",
        "        (re.compile(r'\\b(in|on|at|by|for|with|about|against)\\b', re.I), 'IN'),  # Preposition\n",
        "        (re.compile(r'\\b(is|am|are|was|were|be|being|been)\\b', re.I), 'VB'),  # Be verbs\n",
        "        (re.compile(r'\\b(has|have|had)\\b', re.I), 'HV'),  # Have verbs\n",
        "        (re.compile(r'\\b(do|does|did)\\b', re.I), 'DO'),  # Do verbs\n",
        "        (re.compile(r'\\b\\w+ing\\b', re.I), 'VBG'),  # Gerund or present participle\n",
        "        (re.compile(r'\\b\\w+ed\\b', re.I), 'VBD'),  # Past tense verb\n",
        "        (re.compile(r'\\b\\w+es\\b', re.I), 'VBZ'),  # 3rd person singular present verb\n",
        "        (re.compile(r'\\b\\w+s\\b', re.I), 'NNS'),  # Plural noun\n",
        "        (re.compile(r'\\b\\w+ly\\b', re.I), 'RB'),  # Adverb\n",
        "        (re.compile(r'\\b\\w+er\\b|\\b\\w+est\\b', re.I), 'JJR'),  # Comparative or superlative adjective\n",
        "        (re.compile(r'\\bI\\b|\\bme\\b|\\byou\\b|\\bhe\\b|\\bshe\\b|\\bit\\b|\\bwe\\b|\\bthey\\b', re.I), 'PRP'),  # Personal pronoun\n",
        "        (re.compile(r'\\bmy\\b|\\byour\\b|\\bhis\\b|\\bher\\b|\\bits\\b|\\bour\\b|\\btheir\\b', re.I), 'PRP$'),  # Possessive pronoun\n",
        "        (re.compile(r'\\ba\\b|\\ban\\b|\\bthe\\b', re.I), 'DT'),  # Article\n",
        "        (re.compile(r'\\bthis\\b|\\bthat\\b|\\bthese\\b|\\bthose\\b', re.I), 'DT'),  # Demonstrative determiner\n",
        "        # Custom rule for adjectives, avoiding adverb confusion\n",
        "        (re.compile(r'\\b\\w+y\\b|\\b\\w+ful\\b|\\b\\w+ous\\b|\\b\\w+ive\\b|\\b\\w+ic\\b', re.I), 'JJ'),\n",
        "    ]\n",
        "    \n",
        "    # Tokenize the sentence\n",
        "    words = word_tokenize(sentence)\n",
        "    tagged_sentence = []\n",
        "    \n",
        "    for word in words:\n",
        "        tagged = False\n",
        "        for pattern, tag in rules:\n",
        "            if pattern.match(word):\n",
        "                tagged_sentence.append((word, tag))\n",
        "                tagged = True\n",
        "                break\n",
        "        if not tagged:\n",
        "            tagged_sentence.append((word, 'UNKNOWN'))\n",
        "            \n",
        "    return tagged_sentence\n"
      ]
    },
    {
      "cell_type": "code",
      "execution_count": 2,
      "metadata": {},
      "outputs": [
        {
          "name": "stderr",
          "output_type": "stream",
          "text": [
            "[nltk_data] Downloading package treebank to\n",
            "[nltk_data]     /Users/hiepdang/nltk_data...\n",
            "[nltk_data]   Package treebank is already up-to-date!\n",
            "[nltk_data] Downloading package universal_tagset to\n",
            "[nltk_data]     /Users/hiepdang/nltk_data...\n",
            "[nltk_data]   Package universal_tagset is already up-to-date!\n"
          ]
        }
      ],
      "source": [
        "import typing\n",
        "import nltk\n",
        "from nltk.corpus import treebank\n",
        "from sklearn.model_selection import train_test_split\n",
        "from sklearn.feature_extraction import DictVectorizer\n",
        "from sklearn.naive_bayes import MultinomialNB\n",
        "from sklearn.pipeline import Pipeline\n",
        "from sklearn.metrics import accuracy_score\n",
        "from sklearn.preprocessing import LabelEncoder\n",
        "import numpy as np\n",
        "\n",
        "# Ensure necessary NLTK datasets are downloaded\n",
        "nltk.download('treebank')\n",
        "nltk.download('universal_tagset')\n",
        "\n",
        "\n",
        "class StatisticalPOSTagger:\n",
        "\n",
        "    def __init__(self) -> None:\n",
        "\n",
        "        self.vec = DictVectorizer()\n",
        "        self.encoder = LabelEncoder()\n",
        "        self.nb = MultinomialNB()\n",
        "\n",
        "        # Get the Treebank dataset\n",
        "        tagged_sentences = treebank.tagged_sents(tagset='universal')\n",
        "        X, y = [], []\n",
        "        for tagged in tagged_sentences:\n",
        "            untagged = [w for w, _ in tagged]\n",
        "            for index in range(len(tagged)):\n",
        "                X.append(self.__features(untagged, index))\n",
        "                y.append(tagged[index][1])\n",
        "\n",
        "        # Split the dataset\n",
        "        X_train, X_test, y_train, y_test = train_test_split(X, y, test_size=0.2, random_state=123)\n",
        "        # Train the model\n",
        "        self._fit(X_train, y_train)\n",
        "        # Report the Test accuracy\n",
        "        print(f'Test Accuracy: {self._eval(X_test, y_test)}')\n",
        "\n",
        "    def __call__(self, sentence: str):\n",
        "        X = []\n",
        "        words = sentence.split()\n",
        "        for index in range(len(words)):\n",
        "            X.append(self.__features(words, index))\n",
        "        X = self.vec.transform(X)\n",
        "        y = self.nb.predict(X)\n",
        "        y = self.encoder.inverse_transform(y)\n",
        "        return [(word, label) for word, label in zip(words, y)]\n",
        "\n",
        "    def _fit(self, X, y):\n",
        "        X = self.vec.fit_transform(X)\n",
        "        y = self.encoder.fit_transform(y)\n",
        "        self.nb.fit(X, y)\n",
        "\n",
        "    def _eval(\n",
        "        self, \n",
        "        X: typing.List[typing.Dict], \n",
        "        y: np.ndarray, \n",
        "    ):\n",
        "        X = self.vec.transform(X)\n",
        "        y_true = self.encoder.transform(y)\n",
        "        y_pred = self.nb.predict(X)\n",
        "        return accuracy_score(y_true, y_pred)\n",
        "\n",
        "    @staticmethod\n",
        "    def __features(sentence, index):\n",
        "        return {\n",
        "            'word': sentence[index],\n",
        "            'is_first': index == 0,\n",
        "            'is_last': index == len(sentence) - 1,\n",
        "            'is_capitalized': sentence[index][0].upper() == sentence[index][0],\n",
        "            'is_all_caps': sentence[index].upper() == sentence[index],\n",
        "            'is_all_lower': sentence[index].lower() == sentence[index],\n",
        "            'prefix-1': sentence[index][0],\n",
        "            'prefix-2': sentence[index][:2],\n",
        "            'prefix-3': sentence[index][:3],\n",
        "            'suffix-1': sentence[index][-1],\n",
        "            'suffix-2': sentence[index][-2:],\n",
        "            'suffix-3': sentence[index][-3:],\n",
        "            'prev_word': '' if index == 0 else sentence[index - 1],\n",
        "            'next_word': '' if index == len(sentence) - 1 else sentence[index + 1],\n",
        "            'has_hyphen': '-' in sentence[index],\n",
        "            'is_numeric': sentence[index].isdigit(),\n",
        "        }\n",
        " "
      ]
    },
    {
      "cell_type": "code",
      "execution_count": 3,
      "metadata": {
        "colab": {
          "base_uri": "https://localhost:8080/",
          "height": 36
        },
        "id": "v3qmcVF6hxrR",
        "outputId": "ec285c70-cc53-4c5b-ad82-ee25db331871"
      },
      "outputs": [],
      "source": [
        "#show printed output below\n",
        "sentence = \"The quick brown fox jumps over the lazy dog while it's raining heavily.\""
      ]
    },
    {
      "cell_type": "code",
      "execution_count": 4,
      "metadata": {},
      "outputs": [
        {
          "data": {
            "text/plain": [
              "[('The', 'DT'),\n",
              " ('quick', 'UNKNOWN'),\n",
              " ('brown', 'UNKNOWN'),\n",
              " ('fox', 'UNKNOWN'),\n",
              " ('jumps', 'NNS'),\n",
              " ('over', 'JJR'),\n",
              " ('the', 'DT'),\n",
              " ('lazy', 'JJ'),\n",
              " ('dog', 'UNKNOWN'),\n",
              " ('while', 'UNKNOWN'),\n",
              " ('it', 'PRP'),\n",
              " (\"'s\", 'UNKNOWN'),\n",
              " ('raining', 'VBG'),\n",
              " ('heavily', 'RB'),\n",
              " ('.', 'UNKNOWN')]"
            ]
          },
          "execution_count": 4,
          "metadata": {},
          "output_type": "execute_result"
        }
      ],
      "source": [
        "rule_based_pos_tagger(sentence)"
      ]
    },
    {
      "cell_type": "code",
      "execution_count": 5,
      "metadata": {},
      "outputs": [
        {
          "name": "stdout",
          "output_type": "stream",
          "text": [
            "Test Accuracy: 0.9502880413190306\n"
          ]
        },
        {
          "data": {
            "text/plain": [
              "[('The', 'DET'),\n",
              " ('quick', 'NOUN'),\n",
              " ('brown', 'ADJ'),\n",
              " ('fox', 'NOUN'),\n",
              " ('jumps', 'NOUN'),\n",
              " ('over', 'ADP'),\n",
              " ('the', 'DET'),\n",
              " ('lazy', 'ADJ'),\n",
              " ('dog', 'VERB'),\n",
              " ('while', 'ADP'),\n",
              " (\"it's\", 'PRON'),\n",
              " ('raining', 'VERB'),\n",
              " ('heavily.', 'NOUN')]"
            ]
          },
          "execution_count": 5,
          "metadata": {},
          "output_type": "execute_result"
        }
      ],
      "source": [
        "statistical_pos_tagger = StatisticalPOSTagger()\n",
        "statistical_pos_tagger(sentence)"
      ]
    },
    {
      "cell_type": "markdown",
      "metadata": {},
      "source": [
        "---"
      ]
    }
  ],
  "metadata": {
    "colab": {
      "provenance": []
    },
    "kernelspec": {
      "display_name": "Python 3",
      "name": "python3"
    },
    "language_info": {
      "codemirror_mode": {
        "name": "ipython",
        "version": 3
      },
      "file_extension": ".py",
      "mimetype": "text/x-python",
      "name": "python",
      "nbconvert_exporter": "python",
      "pygments_lexer": "ipython3",
      "version": "3.11.3"
    }
  },
  "nbformat": 4,
  "nbformat_minor": 0
}
